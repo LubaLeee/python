{
 "cells": [
  {
   "cell_type": "code",
   "execution_count": 3,
   "metadata": {
    "collapsed": true
   },
   "outputs": [],
   "source": [
    "import pandas\n",
    "data = pandas.read_csv('titanic.csv')"
   ]
  },
  {
   "cell_type": "code",
   "execution_count": 8,
   "metadata": {},
   "outputs": [
    {
     "data": {
      "text/html": [
       "<div>\n",
       "<style>\n",
       "    .dataframe thead tr:only-child th {\n",
       "        text-align: right;\n",
       "    }\n",
       "\n",
       "    .dataframe thead th {\n",
       "        text-align: left;\n",
       "    }\n",
       "\n",
       "    .dataframe tbody tr th {\n",
       "        vertical-align: top;\n",
       "    }\n",
       "</style>\n",
       "<table border=\"1\" class=\"dataframe\">\n",
       "  <thead>\n",
       "    <tr style=\"text-align: right;\">\n",
       "      <th></th>\n",
       "      <th>PassengerId</th>\n",
       "      <th>Survived</th>\n",
       "      <th>Pclass</th>\n",
       "      <th>Name</th>\n",
       "      <th>Sex</th>\n",
       "      <th>Age</th>\n",
       "      <th>SibSp</th>\n",
       "      <th>Parch</th>\n",
       "      <th>Ticket</th>\n",
       "      <th>Fare</th>\n",
       "      <th>Cabin</th>\n",
       "      <th>Embarked</th>\n",
       "    </tr>\n",
       "  </thead>\n",
       "  <tbody>\n",
       "    <tr>\n",
       "      <th>0</th>\n",
       "      <td>1</td>\n",
       "      <td>0</td>\n",
       "      <td>3</td>\n",
       "      <td>Braund, Mr. Owen Harris</td>\n",
       "      <td>male</td>\n",
       "      <td>22.0</td>\n",
       "      <td>1</td>\n",
       "      <td>0</td>\n",
       "      <td>A/5 21171</td>\n",
       "      <td>7.2500</td>\n",
       "      <td>NaN</td>\n",
       "      <td>S</td>\n",
       "    </tr>\n",
       "    <tr>\n",
       "      <th>1</th>\n",
       "      <td>2</td>\n",
       "      <td>1</td>\n",
       "      <td>1</td>\n",
       "      <td>Cumings, Mrs. John Bradley (Florence Briggs Th...</td>\n",
       "      <td>female</td>\n",
       "      <td>38.0</td>\n",
       "      <td>1</td>\n",
       "      <td>0</td>\n",
       "      <td>PC 17599</td>\n",
       "      <td>71.2833</td>\n",
       "      <td>C85</td>\n",
       "      <td>C</td>\n",
       "    </tr>\n",
       "    <tr>\n",
       "      <th>2</th>\n",
       "      <td>3</td>\n",
       "      <td>1</td>\n",
       "      <td>3</td>\n",
       "      <td>Heikkinen, Miss. Laina</td>\n",
       "      <td>female</td>\n",
       "      <td>26.0</td>\n",
       "      <td>0</td>\n",
       "      <td>0</td>\n",
       "      <td>STON/O2. 3101282</td>\n",
       "      <td>7.9250</td>\n",
       "      <td>NaN</td>\n",
       "      <td>S</td>\n",
       "    </tr>\n",
       "    <tr>\n",
       "      <th>3</th>\n",
       "      <td>4</td>\n",
       "      <td>1</td>\n",
       "      <td>1</td>\n",
       "      <td>Futrelle, Mrs. Jacques Heath (Lily May Peel)</td>\n",
       "      <td>female</td>\n",
       "      <td>35.0</td>\n",
       "      <td>1</td>\n",
       "      <td>0</td>\n",
       "      <td>113803</td>\n",
       "      <td>53.1000</td>\n",
       "      <td>C123</td>\n",
       "      <td>S</td>\n",
       "    </tr>\n",
       "    <tr>\n",
       "      <th>4</th>\n",
       "      <td>5</td>\n",
       "      <td>0</td>\n",
       "      <td>3</td>\n",
       "      <td>Allen, Mr. William Henry</td>\n",
       "      <td>male</td>\n",
       "      <td>35.0</td>\n",
       "      <td>0</td>\n",
       "      <td>0</td>\n",
       "      <td>373450</td>\n",
       "      <td>8.0500</td>\n",
       "      <td>NaN</td>\n",
       "      <td>S</td>\n",
       "    </tr>\n",
       "  </tbody>\n",
       "</table>\n",
       "</div>"
      ],
      "text/plain": [
       "   PassengerId  Survived  Pclass  \\\n",
       "0            1         0       3   \n",
       "1            2         1       1   \n",
       "2            3         1       3   \n",
       "3            4         1       1   \n",
       "4            5         0       3   \n",
       "\n",
       "                                                Name     Sex   Age  SibSp  \\\n",
       "0                            Braund, Mr. Owen Harris    male  22.0      1   \n",
       "1  Cumings, Mrs. John Bradley (Florence Briggs Th...  female  38.0      1   \n",
       "2                             Heikkinen, Miss. Laina  female  26.0      0   \n",
       "3       Futrelle, Mrs. Jacques Heath (Lily May Peel)  female  35.0      1   \n",
       "4                           Allen, Mr. William Henry    male  35.0      0   \n",
       "\n",
       "   Parch            Ticket     Fare Cabin Embarked  \n",
       "0      0         A/5 21171   7.2500   NaN        S  \n",
       "1      0          PC 17599  71.2833   C85        C  \n",
       "2      0  STON/O2. 3101282   7.9250   NaN        S  \n",
       "3      0            113803  53.1000  C123        S  \n",
       "4      0            373450   8.0500   NaN        S  "
      ]
     },
     "execution_count": 8,
     "metadata": {},
     "output_type": "execute_result"
    }
   ],
   "source": [
    "data.head()"
   ]
  },
  {
   "cell_type": "code",
   "execution_count": 9,
   "metadata": {},
   "outputs": [
    {
     "name": "stdout",
     "output_type": "stream",
     "text": [
      "216\n",
      "0.44\n"
     ]
    }
   ],
   "source": [
    "P_class = data['Pclass'].value_counts() \n",
    "class_1 = P_class[1] \n",
    "print(class_1) # количество пассажиров в 1 классе\n",
    "class_3 = P_class[3]\n",
    "print(round(class_1/class_3, 3)) # во сколько раз меньше пассажиров в 1 классе"
   ]
  },
  {
   "cell_type": "code",
   "execution_count": 10,
   "metadata": {},
   "outputs": [
    {
     "name": "stdout",
     "output_type": "stream",
     "text": [
      "38.38\n"
     ]
    }
   ],
   "source": [
    "sur = data['Survived'].value_counts()\n",
    "p_sur = round(100*sur[1]/(sur[1]+sur[0]), 2)\n",
    "print(p_sur) #процент выживших пасссажиров"
   ]
  },
  {
   "cell_type": "code",
   "execution_count": 11,
   "metadata": {},
   "outputs": [
    {
     "name": "stdout",
     "output_type": "stream",
     "text": [
      "Men more than women\n"
     ]
    }
   ],
   "source": [
    "\"\"\"Кого было больше: мужчин или женщин\"\"\"\n",
    "P_sex = data['Sex'].value_counts() \n",
    "if  P_sex['male'] > P_sex['female']:\n",
    "    print('Men more than women')\n",
    "elif P_sex['male'] == P_sex['female']: \n",
    "    print('The number of men and women is equal')\n",
    "else:\n",
    "    print('Women more than men')"
   ]
  },
  {
   "cell_type": "code",
   "execution_count": 12,
   "metadata": {},
   "outputs": [
    {
     "name": "stdout",
     "output_type": "stream",
     "text": [
      "29.7\n",
      "28.0\n"
     ]
    }
   ],
   "source": [
    "\"\"\"Средний и средний медианный возраст всех пассажиров\"\"\"\n",
    "P_age = data['Age']\n",
    "print(round(P_age.mean(),2))\n",
    "print(P_age.median())"
   ]
  },
  {
   "cell_type": "code",
   "execution_count": 15,
   "metadata": {},
   "outputs": [
    {
     "name": "stdout",
     "output_type": "stream",
     "text": [
      "Средний возраст выживших пассажиров: 28.34\n",
      "Медианный возраст выживших пассажиров: 28.0\n",
      "Средний возраст всех пассажиров больше, чем средний возраст виживиших в  1.048\n",
      "Медианный возраст всех пассажиров равен медианному возрасту выживших\n"
     ]
    }
   ],
   "source": [
    "\"\"\"Средний и средний медианный возраст выживших пассажиров\"\"\"\n",
    "sur_data = data[data['Survived'] == 1]\n",
    "sur_data[['Survived','Age']]\n",
    "P_age_sur = sur_data['Age']\n",
    "\n",
    "print('Средний возраст выживших пассажиров:', round(P_age_sur.mean(),2))\n",
    "print('Медианный возраст выживших пассажиров:', P_age_sur.median())\n",
    "\n",
    "com = round(P_age.mean()/P_age_sur.mean(), 3)\n",
    "\n",
    "if com > 1:\n",
    "    print('Средний возраст всех пассажиров больше, чем средний возраст виживиших в ', com)\n",
    "elif com == 1:\n",
    "    print('Средний возраст всех пассажиров равен среднему возрасту выживших')\n",
    "else:\n",
    "    print('Средний возраст всех пассажиров меньше, чем средний возраст виживиших в ', com)\n",
    "\n",
    "    \n",
    "    \n",
    "com1 = round(P_age.median()/P_age_sur.median(), 2)    \n",
    "\n",
    "if com1 > 1:\n",
    "    print('Медианный возраст всех пассажиров больше, чем медианный возраст виживиших в ', com1)\n",
    "elif com1 == 1:\n",
    "    print('Медианный возраст всех пассажиров равен медианному возрасту выживших')\n",
    "else:\n",
    "    print('Медианный возраст всех пассажиров меньше, чем медианный возраст виживиших в ', com1)"
   ]
  },
  {
   "cell_type": "code",
   "execution_count": 17,
   "metadata": {},
   "outputs": [
    {
     "data": {
      "text/html": [
       "<div>\n",
       "<style>\n",
       "    .dataframe thead tr:only-child th {\n",
       "        text-align: right;\n",
       "    }\n",
       "\n",
       "    .dataframe thead th {\n",
       "        text-align: left;\n",
       "    }\n",
       "\n",
       "    .dataframe tbody tr th {\n",
       "        vertical-align: top;\n",
       "    }\n",
       "</style>\n",
       "<table border=\"1\" class=\"dataframe\">\n",
       "  <thead>\n",
       "    <tr style=\"text-align: right;\">\n",
       "      <th></th>\n",
       "      <th>SibSp</th>\n",
       "      <th>Parch</th>\n",
       "    </tr>\n",
       "  </thead>\n",
       "  <tbody>\n",
       "    <tr>\n",
       "      <th>SibSp</th>\n",
       "      <td>1.000000</td>\n",
       "      <td>0.414838</td>\n",
       "    </tr>\n",
       "    <tr>\n",
       "      <th>Parch</th>\n",
       "      <td>0.414838</td>\n",
       "      <td>1.000000</td>\n",
       "    </tr>\n",
       "  </tbody>\n",
       "</table>\n",
       "</div>"
      ],
      "text/plain": [
       "          SibSp     Parch\n",
       "SibSp  1.000000  0.414838\n",
       "Parch  0.414838  1.000000"
      ]
     },
     "execution_count": 17,
     "metadata": {},
     "output_type": "execute_result"
    }
   ],
   "source": [
    "#корреляция\n",
    "corr_data = data[['SibSp','Parch']]\n",
    "corr_data.corr()"
   ]
  },
  {
   "cell_type": "code",
   "execution_count": 18,
   "metadata": {},
   "outputs": [
    {
     "name": "stdout",
     "output_type": "stream",
     "text": [
      "Anna\n"
     ]
    }
   ],
   "source": [
    "# Удобней написать функцию, которая из входной строки выбирает имя:\n",
    "def get_name(s):\n",
    "    if s.find(\"(\") != -1:\n",
    "        index_start = s.find('(')\n",
    "        ss = s[index_start + 1:]\n",
    "        if ss.find(' ') != -1:\n",
    "            index_end = ss.find(' ')\n",
    "            ss = ss[:index_end]\n",
    "    else:    \n",
    "        index_start = s.find('.')\n",
    "        ss = s[index_start + 2:]\n",
    "        if ss.find(' ') != -1:\n",
    "            index_end = ss.find(' ')\n",
    "            ss = ss[:index_end]\n",
    "    \n",
    "    name = ss.replace('\"', '')\n",
    "    name = name.replace(')', '')\n",
    "    name = name.strip()\n",
    "    return name\n",
    "\n",
    "women_data = data[data['Sex'] == 'female'] # оставим только женские данные\n",
    "\n",
    "\n",
    "# Создадим список, в который будем складывать полученные имена.\n",
    "names = [] \n",
    "for full_name in women_data['Name']: # пройдемся по датафрейму\n",
    "    name = get_name(full_name)\n",
    "    names.append(name)\n",
    "\n",
    "names.sort()\n",
    "\n",
    "# Теперь нужно найти самое распространенное в списке значение. Для этого можно пройтись циклом по\n",
    "# элементам списка, вызывая метод count у списка со значением текущего элемента.\n",
    "\n",
    "i = 0\n",
    "num_max = 0\n",
    "for name in names:\n",
    "    num = names.count(names[i])\n",
    "    if num > num_max:\n",
    "        num_max = num\n",
    "        names_max = names[i]\n",
    "    i += 1\n",
    "   \n",
    "    \n",
    "\n",
    "print(names_max)   "
   ]
  },
  {
   "cell_type": "code",
   "execution_count": null,
   "metadata": {
    "collapsed": true
   },
   "outputs": [],
   "source": []
  }
 ],
 "metadata": {
  "kernelspec": {
   "display_name": "Python 3",
   "language": "python",
   "name": "python3"
  },
  "language_info": {
   "codemirror_mode": {
    "name": "ipython",
    "version": 3
   },
   "file_extension": ".py",
   "mimetype": "text/x-python",
   "name": "python",
   "nbconvert_exporter": "python",
   "pygments_lexer": "ipython3",
   "version": "3.6.3"
  }
 },
 "nbformat": 4,
 "nbformat_minor": 2
}
