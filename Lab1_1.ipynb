{
 "cells": [
  {
   "cell_type": "code",
   "execution_count": 1,
   "metadata": {},
   "outputs": [
    {
     "name": "stdout",
     "output_type": "stream",
     "text": [
      "['Январь', 'Март', 'Апрель', 'Май', 'Июнь', 'Июль', 'Август']\n"
     ]
    }
   ],
   "source": [
    "salary = { \n",
    "        'Январь': 20000, \n",
    "        'Март': 18500, \n",
    "        'Апрель': 22500, \n",
    "        'Май': 21000, \n",
    "        'Июнь': 22000 \n",
    "} \n",
    "\n",
    "salary['Июль'] = 19500 \n",
    "salary['Август'] = 25000\n",
    "\n",
    "def month(d):\n",
    "    mon = list(d.keys())\n",
    "    return(mon)\n",
    "\n",
    "print(month(salary)) "
   ]
  },
  {
   "cell_type": "code",
   "execution_count": 2,
   "metadata": {},
   "outputs": [
    {
     "name": "stdout",
     "output_type": "stream",
     "text": [
      "21214\n"
     ]
    }
   ],
   "source": [
    "def aver(a):\n",
    "    sum_salary = 0\n",
    "    j = 0\n",
    "    for i in a:\n",
    "        j = j + 1\n",
    "        sum_salary = sum_salary + a[i]\n",
    "    sum_salary = round(sum_salary/j)\n",
    "    return sum_salary\n",
    "print (aver(salary))"
   ]
  },
  {
   "cell_type": "code",
   "execution_count": 3,
   "metadata": {
    "collapsed": true
   },
   "outputs": [],
   "source": [
    "teremok = { \n",
    "        'Январь': 29000, \n",
    "        'Март': 32500, \n",
    "        'Апрель': 31000, \n",
    "        'Май': 35000, \n",
    "        'Июнь': 37000, \n",
    "        'Июль': 36500, \n",
    "        'Август': 38000 \n",
    "} "
   ]
  },
  {
   "cell_type": "code",
   "execution_count": 4,
   "metadata": {},
   "outputs": [
    {
     "name": "stdout",
     "output_type": "stream",
     "text": [
      "34143\n"
     ]
    }
   ],
   "source": [
    "print(aver(teremok))"
   ]
  },
  {
   "cell_type": "code",
   "execution_count": 17,
   "metadata": {},
   "outputs": [
    {
     "name": "stdout",
     "output_type": "stream",
     "text": [
      "Зарплата в теремке больше в  0.62\n"
     ]
    }
   ],
   "source": [
    "teremok_mean_salary = aver(teremok) \n",
    "zi_mean_salary = aver(salary)\n",
    "\n",
    "profit = round(zi_mean_salary/teremok_mean_salary, 2)\n",
    "\n",
    "if profit < 1: \n",
    "    print('Зарплата в теремке больше в ', profit)\n",
    "elif profit == 1: \n",
    "    print('Зарплаты равны')\n",
    "else:  \n",
    "    print('Зарплата специалиста по ЗИ больше в ', 1 - profit) "
   ]
  }
 ],
 "metadata": {
  "kernelspec": {
   "display_name": "Python 3",
   "language": "python",
   "name": "python3"
  },
  "language_info": {
   "codemirror_mode": {
    "name": "ipython",
    "version": 3
   },
   "file_extension": ".py",
   "mimetype": "text/x-python",
   "name": "python",
   "nbconvert_exporter": "python",
   "pygments_lexer": "ipython3",
   "version": "3.6.3"
  }
 },
 "nbformat": 4,
 "nbformat_minor": 2
}
